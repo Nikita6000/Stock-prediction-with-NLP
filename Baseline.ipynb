{
 "cells": [
  {
   "cell_type": "code",
   "execution_count": 1,
   "metadata": {},
   "outputs": [],
   "source": [
    "import numpy as np\n",
    "import matplotlib.pyplot as plt\n",
    "%matplotlib inline\n",
    "\n",
    "import pandas as pd\n",
    "from pandas_datareader import data\n",
    "import fix_yahoo_finance as yf\n",
    "\n",
    "import tqdm\n",
    "\n",
    "from pandas.tseries.offsets import BDay"
   ]
  },
  {
   "cell_type": "code",
   "execution_count": 2,
   "metadata": {},
   "outputs": [],
   "source": [
    "news = pd.read_csv('seekingalpha_top.csv', index_col=[0], parse_dates=['date'])\n",
    "comments = pd.read_csv('seekingalpha_top_comments.csv', index_col=[0], parse_dates=['datetime'])"
   ]
  },
  {
   "cell_type": "code",
   "execution_count": 3,
   "metadata": {},
   "outputs": [],
   "source": [
    "symbols = news.symbol[np.logical_not(news.symbol.isna())]"
   ]
  },
  {
   "cell_type": "code",
   "execution_count": 4,
   "metadata": {},
   "outputs": [],
   "source": [
    "# first we will consider only symbols with more than 9 explicit mentioning in our dataset\n",
    "universe = symbols.unique()[(symbols.value_counts() > 9)]"
   ]
  },
  {
   "cell_type": "code",
   "execution_count": 5,
   "metadata": {},
   "outputs": [],
   "source": [
    "# lets leave only relevant news\n",
    "filtered_news = news[news.symbol.apply((lambda x: x in universe))]"
   ]
  },
  {
   "cell_type": "code",
   "execution_count": 27,
   "metadata": {},
   "outputs": [],
   "source": [
    "d = pd.datetime(2018, 10, 11)"
   ]
  },
  {
   "cell_type": "code",
   "execution_count": 33,
   "metadata": {},
   "outputs": [],
   "source": []
  },
  {
   "cell_type": "code",
   "execution_count": 42,
   "metadata": {},
   "outputs": [],
   "source": []
  },
  {
   "cell_type": "code",
   "execution_count": 57,
   "metadata": {},
   "outputs": [
    {
     "data": {
      "text/plain": [
       "Timestamp('2018-04-13 00:00:00')"
      ]
     },
     "execution_count": 57,
     "metadata": {},
     "output_type": "execute_result"
    }
   ],
   "source": []
  },
  {
   "cell_type": "code",
   "execution_count": 93,
   "metadata": {},
   "outputs": [],
   "source": [
    "class InvestmentSimulator():\n",
    "    def __init__(self, universe, start_date, end_date, force_download=False):\n",
    "        \"\"\" INPUT:\n",
    "                universe - a list of strings with ticker symbols \n",
    "                start_date - a pandas Date object with starting date of the simulation\n",
    "                finish_date - a pandas Date object with end date of the simulation\n",
    "        \"\"\"\n",
    "        \n",
    "        if(not force_download):\n",
    "            try:\n",
    "                self.close_prices = saved_prices\n",
    "            except NameError:\n",
    "                self.close_prices = yf.download(universe, \n",
    "                                                data_source = 'yahoo', \n",
    "                                                start=start_date, \n",
    "                                                end=end_date)['Close']\n",
    "                global saved_prices = self.close_prices\n",
    "        else:\n",
    "            self.close_prices = yf.download(universe, \n",
    "                                                data_source = 'yahoo', \n",
    "                                                start=start_date, \n",
    "                                                end=end_date)['Close']\n",
    "            global saved_prices = self.close_prices\n",
    "        \n",
    "        self.universe = np.array(universe)\n",
    "        self.start_date = start_date\n",
    "        self.end_date = end_date\n",
    "\n",
    "        self.bd = BDay()\n",
    "    \n",
    "    def run(self, stock_balancer):\n",
    "        \"\"\" A function that runs the simulation and calculates returns \n",
    "            INPUT:\n",
    "                stock_balancer - a function with takes current date as input and returns a numpy array\n",
    "                                 with proportions to balance portfolio of securities across universe\n",
    "            OUTPUT:\n",
    "                portfolio_value - a pandas series with portfolio value in dollars for each simulation day\n",
    "        \"\"\"\n",
    "        \n",
    "        # utility variable\n",
    "        day = pd.Timedelta(1, unit='d')\n",
    "        \n",
    "        # we will ignore the fact that we can not buy less than one share\n",
    "        # (we will assume we can split our porfolio in any proportion across desired stocks)\n",
    "        portfolio_value = [1.]\n",
    "        \n",
    "        # in the begining we do not own any securities, just cash\n",
    "        self.curent_portfolio = np.zeros(len(self.universe))\n",
    "        \n",
    "        for prev_date, date in tqdm.tqdm_notebook(zip(self.close_prices.index[:-1], self.close_prices.index[1:]), total = len(self.close_prices.index) - 1):\n",
    "            proportions = stock_balancer(date)\n",
    "            \n",
    "            portfolio_value[-1] =  np.sum(self.curent_portfolio * np.array(self.close_prices.loc[prev_date].fillna(0))) + \n",
    "                                    self.curent_portfolio\n",
    "            \n",
    "            self.curent_portfolio = portfolio_value[-1] * proportions / np.array(self.close_prices.loc[date].fillna(np.inf))\n",
    "            \n",
    "            # if proportions sums to less than 1 in absolute values, we assume that \n",
    "            # we want to keep our money in cash for the time being\n",
    "            portfolio_value.append(np.sum(self.curent_portfolio * np.array(self.close_prices.loc[date])) + \n",
    "                                   (1. - np.sum(np.abs(self.curent_portfolio))))\n",
    "            \n",
    "        return portfolio_value"
   ]
  },
  {
   "cell_type": "code",
   "execution_count": null,
   "metadata": {},
   "outputs": [],
   "source": []
  },
  {
   "cell_type": "code",
   "execution_count": 115,
   "metadata": {
    "collapsed": true
   },
   "outputs": [
    {
     "data": {
      "text/plain": [
       "AA             NaN\n",
       "AAPL           NaN\n",
       "ABC      37.540001\n",
       "ABS            NaN\n",
       "ACIA           NaN\n",
       "ADP      40.667252\n",
       "AET      35.480000\n",
       "ALLY           NaN\n",
       "AMD            NaN\n",
       "AMT            NaN\n",
       "AMZN           NaN\n",
       "AOBC           NaN\n",
       "ATUS           NaN\n",
       "ATVI           NaN\n",
       "AVGO           NaN\n",
       "BA             NaN\n",
       "BABA           NaN\n",
       "BAC            NaN\n",
       "BB             NaN\n",
       "BBBY     50.639999\n",
       "BDRAF     4.740000\n",
       "BLOK           NaN\n",
       "BP             NaN\n",
       "BRK.A          NaN\n",
       "C        26.770000\n",
       "CAT            NaN\n",
       "CAVM     25.260000\n",
       "CBOE           NaN\n",
       "CBS            NaN\n",
       "CHTR     46.590000\n",
       "           ...    \n",
       "TRP      40.430000\n",
       "TSLA           NaN\n",
       "TWTR           NaN\n",
       "TWX            NaN\n",
       "UBER           NaN\n",
       "UBS      13.310000\n",
       "UL       33.049999\n",
       "UNIT           NaN\n",
       "USO            NaN\n",
       "UUP            NaN\n",
       "VIA            NaN\n",
       "VOD            NaN\n",
       "VXX            NaN\n",
       "VZ             NaN\n",
       "WB             NaN\n",
       "WFC      23.360001\n",
       "WGO            NaN\n",
       "WIN      18.219320\n",
       "WMT            NaN\n",
       "WOLWF    27.980000\n",
       "XLE            NaN\n",
       "XLF            NaN\n",
       "XLK            NaN\n",
       "XLP      29.549999\n",
       "XLU            NaN\n",
       "XLV            NaN\n",
       "XLY      34.049999\n",
       "XRT            NaN\n",
       "ZION     15.100000\n",
       "ZNGA           NaN\n",
       "Name: 2011-08-19 00:00:00, Length: 177, dtype: float64"
      ]
     },
     "execution_count": 115,
     "metadata": {},
     "output_type": "execute_result"
    }
   ],
   "source": [
    "IS.close_prices.loc[pd.datetime(2011, 8, 19)]"
   ]
  },
  {
   "cell_type": "code",
   "execution_count": 117,
   "metadata": {},
   "outputs": [
    {
     "data": {
      "text/plain": [
       "<matplotlib.axes._subplots.AxesSubplot at 0x7f8914ce89b0>"
      ]
     },
     "execution_count": 117,
     "metadata": {},
     "output_type": "execute_result"
    },
    {
     "data": {
      "image/png": "[encoded data removed]",
      "text/plain": [
       "<matplotlib.figure.Figure at 0x7f891c4c05c0>"
      ]
     },
     "metadata": {},
     "output_type": "display_data"
    }
   ],
   "source": [
    "IS.close_prices.loc[:, 'GOOG'].fillna(0).plot()"
   ]
  },
  {
   "cell_type": "code",
   "execution_count": 120,
   "metadata": {},
   "outputs": [
    {
     "name": "stdout",
     "output_type": "stream",
     "text": [
      "[*********************100%***********************]  177 of 177 downloaded\n"
     ]
    }
   ],
   "source": [
    "test = yf.download(universe.tolist(), \n",
    "                    data_source = 'yahoo', \n",
    "                    start=pd.datetime(2011, 1, 1), \n",
    "                    end=pd.datetime(2012, 1, 1))"
   ]
  },
  {
   "cell_type": "code",
   "execution_count": 94,
   "metadata": {},
   "outputs": [],
   "source": [
    "IS = InvestmentSimulator(universe=universe.tolist(), \n",
    "                         start_date=min(filtered_news.date.dt.date) - pd.Timedelta(10, unit='d'), \n",
    "                         end_date=max(filtered_news.date.dt.date) + pd.Timedelta(10, unit='d'))\n",
    "\n",
    "# lets save time by not loading data every time we restart the cell:\n",
    "saved_prices = IS.close_prices\n",
    "\n",
    "def BuyEqual (data):\n",
    "    return np.ones(len(universe)) / len(universe)"
   ]
  },
  {
   "cell_type": "code",
   "execution_count": 90,
   "metadata": {},
   "outputs": [
    {
     "data": {
      "text/plain": [
       "nan"
      ]
     },
     "execution_count": 90,
     "metadata": {},
     "output_type": "execute_result"
    }
   ],
   "source": [
    "np.sum(IS.curent_portfolio * np.array(IS.close_prices.loc[pd.datetime(2011, 4, 8)]))"
   ]
  },
  {
   "cell_type": "code",
   "execution_count": 91,
   "metadata": {},
   "outputs": [
    {
     "data": {
      "text/plain": [
       "nan"
      ]
     },
     "execution_count": 91,
     "metadata": {},
     "output_type": "execute_result"
    }
   ],
   "source": [
    "np.sum(np.abs(IS.curent_portfolio))"
   ]
  },
  {
   "cell_type": "code",
   "execution_count": 95,
   "metadata": {},
   "outputs": [
    {
     "data": {
      "application/vnd.jupyter.widget-view+json": {
       "model_id": "75aedb22217d45f18cf0a12aaba3d4a9"
      }
     },
     "metadata": {},
     "output_type": "display_data"
    },
    {
     "name": "stdout",
     "output_type": "stream",
     "text": [
      "\n"
     ]
    }
   ],
   "source": [
    "result = IS.run(BuyEqual)"
   ]
  },
  {
   "cell_type": "code",
   "execution_count": 68,
   "metadata": {
    "scrolled": true
   },
   "outputs": [
    {
     "ename": "NameError",
     "evalue": "name 'result' is not defined",
     "output_type": "error",
     "traceback": [
      "\u001b[0;31m---------------------------------------------------------------------------\u001b[0m",
      "\u001b[0;31mNameError\u001b[0m                                 Traceback (most recent call last)",
      "\u001b[0;32m<ipython-input-68-60b68472457c>\u001b[0m in \u001b[0;36m<module>\u001b[0;34m()\u001b[0m\n\u001b[0;32m----> 1\u001b[0;31m \u001b[0mplt\u001b[0m\u001b[0;34m.\u001b[0m\u001b[0mplot\u001b[0m\u001b[0;34m(\u001b[0m\u001b[0mresult\u001b[0m\u001b[0;34m)\u001b[0m\u001b[0;34m\u001b[0m\u001b[0m\n\u001b[0m",
      "\u001b[0;31mNameError\u001b[0m: name 'result' is not defined"
     ]
    }
   ],
   "source": [
    "plt.plot(result)"
   ]
  }
 ],
 "metadata": {
  "kernelspec": {
   "display_name": "Python 3",
   "language": "python",
   "name": "python3"
  },
  "language_info": {
   "codemirror_mode": {
    "name": "ipython",
    "version": 3
   },
   "file_extension": ".py",
   "mimetype": "text/x-python",
   "name": "python",
   "nbconvert_exporter": "python",
   "pygments_lexer": "ipython3",
   "version": "3.6.3"
  }
 },
 "nbformat": 4,
 "nbformat_minor": 2
}
