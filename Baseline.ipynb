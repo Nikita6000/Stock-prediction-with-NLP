{
 "cells": [
  {
   "cell_type": "code",
   "execution_count": 17,
   "metadata": {},
   "outputs": [],
   "source": [
    "import numpy as np\n",
    "import scipy as sp\n",
    "import matplotlib.pyplot as plt\n",
    "%matplotlib inline\n",
    "\n",
    "import pandas as pd\n",
    "from pandas_datareader import data\n",
    "import fix_yahoo_finance as yf\n",
    "\n",
    "import tqdm\n",
    "\n",
    "from sklearn.feature_extraction.text import TfidfVectorizer"
   ]
  },
  {
   "cell_type": "code",
   "execution_count": 18,
   "metadata": {},
   "outputs": [],
   "source": [
    "news = pd.read_csv('seekingalpha_top.csv', index_col=[0], parse_dates=['date'])\n",
    "comments = pd.read_csv('seekingalpha_top_comments.csv', index_col=[0], parse_dates=['datetime'])"
   ]
  },
  {
   "cell_type": "code",
   "execution_count": 19,
   "metadata": {},
   "outputs": [],
   "source": [
    "symbols = news.symbol[np.logical_not(news.symbol.isna())]"
   ]
  },
  {
   "cell_type": "code",
   "execution_count": 20,
   "metadata": {},
   "outputs": [],
   "source": [
    "# first we will consider only symbols with more than 9 explicit mentioning in our dataset\n",
    "universe = symbols.unique()[(symbols.value_counts() > 10)]"
   ]
  },
  {
   "cell_type": "code",
   "execution_count": 21,
   "metadata": {},
   "outputs": [],
   "source": [
    "# lets leave only relevant news\n",
    "filtered_news = news[news.symbol.apply((lambda x: x in universe))]"
   ]
  },
  {
   "cell_type": "markdown",
   "metadata": {},
   "source": [
    "### First we will construct a class to visualy evaluate our models on history data\n",
    "\n",
    "Important to note, that this evaluation should be performed after model selection step, which should include train and test split or some crossvalidation scheme"
   ]
  },
  {
   "cell_type": "code",
   "execution_count": 22,
   "metadata": {},
   "outputs": [],
   "source": [
    "class InvestmentSimulator():\n",
    "    def __init__(self, universe, start_date, sumulation_start_delay, end_date, force_download=False):\n",
    "        \"\"\" INPUT:\n",
    "                universe - a list of strings with ticker symbols \n",
    "                start_date - a pandas Date object with starting date of simulation\n",
    "                sumulation_start_delay - an integer number of days to skip in simulation \n",
    "                                        (will load data for previous to start_date *sumulation_start_delay* number of days) \n",
    "                finish_date - a pandas Date object with end date of the simulation\n",
    "        \"\"\"\n",
    "        \n",
    "        if(not force_download):\n",
    "            try:\n",
    "                self.close_prices = pd.read_csv('prices_tmp.csv', index_col=[0], parse_dates=['Date'])\n",
    "            except FileNotFoundError:\n",
    "                self.close_prices = yf.download(universe, \n",
    "                                            data_source = 'yahoo', \n",
    "                                            start=start_date - pd.Timedelta(sumulation_start_delay, unit='d'), \n",
    "                                            end=end_date)['Close'].dropna(axis=1) # we will drop any stock with missing \n",
    "                                                                                  # info, for simplicity\n",
    "                self.close_prices.to_csv('prices_tmp.csv')\n",
    "        else:\n",
    "            self.close_prices = yf.download(universe, \n",
    "                                            data_source = 'yahoo', \n",
    "                                            start=start_date, \n",
    "                                            end=end_date)['Close'].dropna(axis=1) # we will drop any stock with missing \n",
    "                                                                                  # info, for simplicity\n",
    "            self.close_prices.to_csv('prices_tmp.csv')\n",
    "            \n",
    "        self.universe = np.array(self.close_prices.columns)\n",
    "        \n",
    "        self.filtered_news = news[news.symbol.apply(lambda x: x in self.universe)]\n",
    "        \n",
    "        self.start_date = start_date\n",
    "        self.sumulation_start_delay = sumulation_start_delay\n",
    "        self.end_date = end_date\n",
    "        \n",
    "        self.CalculateReturns()\n",
    "        \n",
    "\n",
    "    def CalculateReturns(self, ndays=30):\n",
    "        returns = [np.zeros(len(self.universe))]\n",
    "        for day, previous_day in zip(np.arange(1, len(self.close_prices)), np.arange(0, len(self.close_prices) - 1)):\n",
    "            returns.append(np.array((self.close_prices.iloc[day] - self.close_prices.iloc[previous_day]) / \n",
    "                                    self.close_prices.iloc[previous_day]))\n",
    "\n",
    "        self.returns = pd.DataFrame(returns, index=self.close_prices.index, columns=self.close_prices.columns)\n",
    "    \n",
    "    def run(self, stock_balancer):\n",
    "        \"\"\" A function that runs the simulation and calculates returns \n",
    "            INPUT:\n",
    "                stock_balancer - a function with takes current date as input and returns a numpy array\n",
    "                                 with proportions to balance portfolio of securities across universe\n",
    "                                 date is an integer index of close_price dataframe\n",
    "            OUTPUT:\n",
    "                portfolio_value - a pandas series with portfolio value in dollars for each simulation day\n",
    "        \"\"\"\n",
    "        \n",
    "        # utility variable\n",
    "        day = pd.Timedelta(1, unit='d')\n",
    "        \n",
    "        # we will ignore the fact that we can not buy less than one share\n",
    "        # (we will assume we can split our porfolio in any proportion across desired stocks)\n",
    "        portfolio_value = [1.]\n",
    "        \n",
    "        # in the begining we own all securities equally\n",
    "        self.curent_portfolio = (np.ones(len(self.universe)) / len(self.universe)) / np.array(self.close_prices.iloc[0])\n",
    "        \n",
    "        for date in tqdm.tqdm_notebook(np.arange(self.sumulation_start_delay, len(self.close_prices.index))):\n",
    "            proportions = stock_balancer(date)\n",
    "            \n",
    "            portfolio_value.append(portfolio_value[-1] + \n",
    "                                   np.sum(self.curent_portfolio * np.array(self.returns.iloc[date])))\n",
    "            \n",
    "            self.curent_portfolio = proportions\n",
    "                        \n",
    "        return pd.Series(data=portfolio_value[:-1], index=self.close_prices.index[self.sumulation_start_delay:])"
   ]
  },
  {
   "cell_type": "markdown",
   "metadata": {},
   "source": [
    "As an example, lets see what happens if we simlply invest in all assets uniformly:"
   ]
  },
  {
   "cell_type": "code",
   "execution_count": 23,
   "metadata": {},
   "outputs": [
    {
     "data": {
      "application/vnd.jupyter.widget-view+json": {
       "model_id": "474c28037e9e48b3ad69dd1bf6e2f4fd"
      }
     },
     "metadata": {},
     "output_type": "display_data"
    },
    {
     "name": "stdout",
     "output_type": "stream",
     "text": [
      "\n"
     ]
    },
    {
     "data": {
      "image/png": "[encoded data removed]",
      "text/plain": [
       "<matplotlib.figure.Figure at 0x7fe987d74f28>"
      ]
     },
     "metadata": {},
     "output_type": "display_data"
    }
   ],
   "source": [
    "IS = InvestmentSimulator(universe=universe.tolist(), \n",
    "                         start_date=min(filtered_news.date.dt.date), \n",
    "                         sumulation_start_delay = 30,\n",
    "                         end_date=max(filtered_news.date.dt.date) + pd.Timedelta(10, unit='d'),\n",
    "                         force_download=False)\n",
    "\n",
    "def plot_r(results):\n",
    "    fig = plt.figure(figsize=(16, 7));\n",
    "    ax = fig.add_subplot(111);\n",
    "    for result in results:\n",
    "        result['data'].plot(ax=ax, label=result['label']);\n",
    "    ax.set_xlabel('time');\n",
    "    ax.set_ylabel('Portfolio value');\n",
    "    ax.legend();\n",
    "\n",
    "def BuyEqual (date):\n",
    "    return np.ones(len(IS.universe)) / len(IS.universe)\n",
    "\n",
    "result = IS.run(BuyEqual)\n",
    "results = [{'data':result, 'label':'Uniformly distributed investments'}]\n",
    "\n",
    "plot_r(results)"
   ]
  },
  {
   "cell_type": "markdown",
   "metadata": {},
   "source": [
    "### Now we construct the first variant of dataset based on news titles only:"
   ]
  },
  {
   "cell_type": "code",
   "execution_count": 24,
   "metadata": {},
   "outputs": [],
   "source": [
    "class tfidf_dataset():\n",
    "    \"\"\"\n",
    "        This is a class that constructs and stores dataset of features extracted from news.\n",
    "        We fit a TfidfVectorizer on train_news. Then we construct train and test datasets, in which \n",
    "        datapoint (X, y) is the following:\n",
    "        X - a scipy sparce matrix of shape (*number of securities*, n_features). Each line j is a sum of \n",
    "            feature vectors, extracted from news for the previous *lookback* days related to security j \n",
    "        y - a vector of lenght *number of securities* which contains returns for each security\n",
    "    \"\"\"\n",
    "    def __init__(self, news, test_ratio, n_features, lookback = 30):\n",
    "    \n",
    "        self.train_news = news[:int((1. - test_ratio)*len(news))]\n",
    "        self.test_news = news[int((1. - test_ratio)*len(news)):]\n",
    "        \n",
    "        self.lookback = lookback\n",
    "        \n",
    "        self.tfv = TfidfVectorizer(max_features=n_features, \n",
    "                                   analyzer='char', \n",
    "                                   ngram_range=(2, 5))\n",
    "        \n",
    "        self.tfv.fit(self.train_news.title)\n",
    "        \n",
    "        print('Constructing train dataset...', end='')\n",
    "        self.train_dataset = self.construct_dataset(self.train_news)\n",
    "        print('Done')\n",
    "        print('Constructing test dataset...', end='')\n",
    "        self.test_dataset = self.construct_dataset(self.test_news)\n",
    "        print('Done')\n",
    "        \n",
    "    def construct_dataset(self, news):\n",
    "        dataset = []\n",
    "\n",
    "        relevant_prices_mask = np.logical_and(IS.close_prices.index > min(news.date), \n",
    "                                              IS.close_prices.index < max(news.date) + pd.Timedelta(self.lookback, unit='d'))\n",
    "        \n",
    "        for date in IS.close_prices.index[relevant_prices_mask]:\n",
    "            news_chunk = news[np.logical_and(news.date > date - pd.Timedelta(self.lookback, unit='d'), \n",
    "                                             news.date <= date)]\n",
    "            bag_of_news = (pd.Series(data='', index=IS.universe) + \n",
    "                           news_chunk.groupby('symbol')['title'].agg('\\n'.join)).fillna('')\n",
    "            \n",
    "            X = self.tfv.transform(bag_of_news)\n",
    "            y = IS.returns.loc[date]\n",
    "            \n",
    "            dataset.append((X, y))\n",
    "        \n",
    "        return dataset"
   ]
  },
  {
   "cell_type": "code",
   "execution_count": 25,
   "metadata": {},
   "outputs": [
    {
     "name": "stdout",
     "output_type": "stream",
     "text": [
      "Constructing train dataset...Done\n",
      "Constructing test dataset...Done\n"
     ]
    }
   ],
   "source": [
    "dataset = tfidf_dataset(news = IS.filtered_news, test_ratio=0.5, n_features=2000)"
   ]
  },
  {
   "cell_type": "markdown",
   "metadata": {},
   "source": [
    "### Lets do some simple algorithms, just to make sure that problem can not be solved head on:"
   ]
  },
  {
   "cell_type": "code",
   "execution_count": 26,
   "metadata": {},
   "outputs": [],
   "source": [
    "from sklearn.linear_model import Ridge\n",
    "\n",
    "R = Ridge()"
   ]
  },
  {
   "cell_type": "code",
   "execution_count": 32,
   "metadata": {},
   "outputs": [],
   "source": [
    "# for faster training, lets flatten all X and concatenate whole dataset into one sparce matrix:\n",
    "X_train = []\n",
    "y_train = []\n",
    "\n",
    "for X, y in dataset.train_dataset:\n",
    "    X_train.append(sp.sparse.csr_matrix(X.toarray().reshape(-1)))\n",
    "    y_train.append(np.array(y))\n",
    "\n",
    "y_train = np.vstack(y_train)\n",
    "X_train = sp.sparse.vstack(X_train)"
   ]
  },
  {
   "cell_type": "code",
   "execution_count": 28,
   "metadata": {},
   "outputs": [
    {
     "data": {
      "text/plain": [
       "Ridge(alpha=1.0, copy_X=True, fit_intercept=True, max_iter=None,\n",
       "   normalize=False, random_state=None, solver='auto', tol=0.001)"
      ]
     },
     "execution_count": 28,
     "metadata": {},
     "output_type": "execute_result"
    }
   ],
   "source": [
    "R.fit(X_train, y_train)"
   ]
  },
  {
   "cell_type": "code",
   "execution_count": 29,
   "metadata": {},
   "outputs": [],
   "source": [
    "X_test = []\n",
    "y_test = []\n",
    "\n",
    "for X, y in dataset.test_dataset:\n",
    "    X_test.append(sp.sparse.csr_matrix(X.toarray().reshape(-1)))\n",
    "    y_test.append(np.array(y))\n",
    "\n",
    "y_test = np.vstack(y_test)\n",
    "X_test = sp.sparse.vstack(X_test)"
   ]
  },
  {
   "cell_type": "code",
   "execution_count": 30,
   "metadata": {},
   "outputs": [
    {
     "data": {
      "text/plain": [
       "-0.348267803597474"
      ]
     },
     "execution_count": 30,
     "metadata": {},
     "output_type": "execute_result"
    }
   ],
   "source": [
    "R.score(X_test, y_test)"
   ]
  },
  {
   "cell_type": "markdown",
   "metadata": {},
   "source": [
    "Not surprisingly, we wont get results with just ridge regression"
   ]
  },
  {
   "cell_type": "code",
   "execution_count": 33,
   "metadata": {},
   "outputs": [],
   "source": [
    "from sklearn.tree import DecisionTreeRegressor"
   ]
  },
  {
   "cell_type": "code",
   "execution_count": 35,
   "metadata": {},
   "outputs": [],
   "source": [
    "TR = DecisionTreeRegressor()"
   ]
  },
  {
   "cell_type": "code",
   "execution_count": 36,
   "metadata": {},
   "outputs": [
    {
     "data": {
      "text/plain": [
       "DecisionTreeRegressor(criterion='mse', max_depth=None, max_features=None,\n",
       "           max_leaf_nodes=None, min_impurity_decrease=0.0,\n",
       "           min_impurity_split=None, min_samples_leaf=1,\n",
       "           min_samples_split=2, min_weight_fraction_leaf=0.0,\n",
       "           presort=False, random_state=None, splitter='best')"
      ]
     },
     "execution_count": 36,
     "metadata": {},
     "output_type": "execute_result"
    }
   ],
   "source": [
    "TR.fit(X_train, y_train)"
   ]
  },
  {
   "cell_type": "code",
   "execution_count": 37,
   "metadata": {},
   "outputs": [
    {
     "data": {
      "text/plain": [
       "-1.1139166525621385"
      ]
     },
     "execution_count": 37,
     "metadata": {},
     "output_type": "execute_result"
    }
   ],
   "source": [
    "TR.score(X_test, y_test)"
   ]
  },
  {
   "cell_type": "code",
   "execution_count": 42,
   "metadata": {},
   "outputs": [],
   "source": [
    "y_train_classification = (y_train >= 0).astype(int)\n",
    "y_test_classification = (y_test >= 0).astype(int)"
   ]
  },
  {
   "cell_type": "code",
   "execution_count": 54,
   "metadata": {},
   "outputs": [],
   "source": [
    "from sklearn.tree import DecisionTreeClassifier\n",
    "from sklearn.ensemble import RandomForestClassifier"
   ]
  },
  {
   "cell_type": "code",
   "execution_count": 46,
   "metadata": {},
   "outputs": [
    {
     "data": {
      "text/plain": [
       "DecisionTreeClassifier(class_weight=None, criterion='gini', max_depth=None,\n",
       "            max_features=None, max_leaf_nodes=None,\n",
       "            min_impurity_decrease=0.0, min_impurity_split=None,\n",
       "            min_samples_leaf=1, min_samples_split=2,\n",
       "            min_weight_fraction_leaf=0.0, presort=False, random_state=None,\n",
       "            splitter='best')"
      ]
     },
     "execution_count": 46,
     "metadata": {},
     "output_type": "execute_result"
    }
   ],
   "source": [
    "TC = DecisionTreeClassifier()\n",
    "TC.fit(X_train, y_train_classification)"
   ]
  },
  {
   "cell_type": "code",
   "execution_count": 47,
   "metadata": {},
   "outputs": [
    {
     "data": {
      "text/plain": [
       "0.0"
      ]
     },
     "execution_count": 47,
     "metadata": {},
     "output_type": "execute_result"
    }
   ],
   "source": [
    "TC.score(X_test, y_test_classification)"
   ]
  },
  {
   "cell_type": "code",
   "execution_count": 55,
   "metadata": {},
   "outputs": [
    {
     "data": {
      "text/plain": [
       "RandomForestClassifier(bootstrap=True, class_weight=None, criterion='gini',\n",
       "            max_depth=None, max_features='auto', max_leaf_nodes=None,\n",
       "            min_impurity_decrease=0.0, min_impurity_split=None,\n",
       "            min_samples_leaf=1, min_samples_split=2,\n",
       "            min_weight_fraction_leaf=0.0, n_estimators=10, n_jobs=1,\n",
       "            oob_score=False, random_state=None, verbose=0,\n",
       "            warm_start=False)"
      ]
     },
     "execution_count": 55,
     "metadata": {},
     "output_type": "execute_result"
    }
   ],
   "source": [
    "RFC = RandomForestClassifier()\n",
    "RFC.fit(X_train, y_train_classification)"
   ]
  },
  {
   "cell_type": "code",
   "execution_count": 56,
   "metadata": {},
   "outputs": [
    {
     "data": {
      "text/plain": [
       "0.0"
      ]
     },
     "execution_count": 56,
     "metadata": {},
     "output_type": "execute_result"
    }
   ],
   "source": [
    "RFC.score(X_test, y_test_classification)"
   ]
  }
 ],
 "metadata": {
  "kernelspec": {
   "display_name": "Python 3",
   "language": "python",
   "name": "python3"
  },
  "language_info": {
   "codemirror_mode": {
    "name": "ipython",
    "version": 3
   },
   "file_extension": ".py",
   "mimetype": "text/x-python",
   "name": "python",
   "nbconvert_exporter": "python",
   "pygments_lexer": "ipython3",
   "version": "3.6.3"
  }
 },
 "nbformat": 4,
 "nbformat_minor": 2
}
